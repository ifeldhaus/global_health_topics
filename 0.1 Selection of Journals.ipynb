{
 "cells": [
  {
   "cell_type": "markdown",
   "id": "russian-plant",
   "metadata": {},
   "source": [
    "# Selection of Journals \n",
    "\n",
    "*Selection criteria:* \n",
    "\n",
    "*Tier 1*: explicit mention of focus on \"global health\" or \"global public health\" or \"international public health\" or health in \"low- and middle-income countries\"/\"developing countries\", or equity in scope or mission statements. \n",
    "\n",
    "*Tier 1*\n",
    "\n",
    "* Annals of Global Health\n",
    "* BMC Global and Public Health -- not found in PubMed, as this is a new journal\n",
    "* BMC Tropical Medicine and Health -- not found in PubMed\n",
    "* BMJ Global Health\n",
    "* Bulletin of the World Health Organization\n",
    "* Global Health Action\n",
    "* Global Health, Epidemiology and Genomics -- not found in PubMed\n",
    "* Global Health Journal -- not found in PubMed\n",
    "* Global Health Promotion\n",
    "* Global Health Research and Policy\n",
    "* Global Health: Science and Practice\n",
    "* Global Public Health\n",
    "* Health Policy and Planning\n",
    "* Health Research Policy and Systems\n",
    "* Human Resources for Health\n",
    "* International Health\n",
    "* International Journal for Equity in Health\n",
    "* International Journal of Public Health\n",
    "* Journal of Epidemiology and Global Health -- not found in PubMed\n",
    "* Journal of Global Health\n",
    "* Journal of Global Health Reports\n",
    "* Journal of Health, Population, and Nutrition\n",
    "* Journal of Public Health\n",
    "* The Lancet Global Health\n",
    "* PLOS Global Public Health\n",
    "* Tropical Medicine and Health\n",
    "\n",
    "*Tier 2*: encompasses public health more broadly, generally known or identified to have global health focused articles\n",
    "\n",
    "*Tier 2*: Includes all in Tier 1 +\n",
    "\n",
    "* BMC Health Services Research\n",
    "* BMC Public Health\n",
    "* Frontiers in Public Health\n",
    "* Public Health\n",
    "* Social Science and Medicine - Population Health"
   ]
  },
  {
   "cell_type": "markdown",
   "id": "leading-apollo",
   "metadata": {},
   "source": [
    "## Journal Scope\n",
    "\n",
    "The following sections highlight the scope of each journal listed above to identify their relevance to the analysis."
   ]
  },
  {
   "cell_type": "markdown",
   "id": "attached-ethernet",
   "metadata": {},
   "source": [
    "### Annals of Global Health\n",
    "#### Focus and Scope\n",
    "The journal's mission is to advance and disseminate knowledge of global health. Its goals are improve the health and well-being of all people, advance health equity and promote wise stewardship of the earth's environment.\n",
    "\n",
    "[About - *Annals of Global Health*](https://annalsofglobalhealth.org/about#:~:text=Focus%20and%20Scope,-ANNALS%20OF%20GLOBAL&text=The%20journal's%20mission%20is%20to,stewardship%20of%20the%20earth's%20environment.)\n",
    "\n",
    "#### Impact Factor (2022-2023)\n",
    "* Impact Factor: 3.64"
   ]
  },
  {
   "cell_type": "markdown",
   "id": "another-truck",
   "metadata": {},
   "source": [
    "### BMC Global and Public Health\n",
    "#### Aims and scope\n",
    "BMC Global and Public Health publishes impactful research, key advances and expert opinion in all areas of global and public health. The journal aims to promote health and well-being, to advance health equity and policy making, and to connect and support the global and public health communities around the world. Areas of interest of the journal include disease epidemiology, population health, health equity, environmental and occupational health, health policy, reproductive, maternal and child health, oral health and social determinants of health. In order to engage the communities in open discussion, the journal publishes a unique set of high-impact content including Research, Systematic Reviews, Registered Reports, as well as Reviews, Comments, Forums, Perspectives and Matters Arising. \n",
    "\n",
    "[Aims and scope *BMC Global and Public Health*](https://bmcglobalpublichealth.biomedcentral.com/submission-guidelines/aims-and-scope)\n",
    "\n",
    "#### Impact Factor (2022-2023)\n",
    "Not available because it's a new journal started in late 2022"
   ]
  },
  {
   "cell_type": "markdown",
   "id": "deluxe-maximum",
   "metadata": {},
   "source": [
    "### BMC Health Services Research\n",
    "#### Aims and scope\n",
    "\n",
    "*BMC Health Services Research* is an open access, peer-reviewed journal that considers articles on all aspects of health services research. The journal has a special focus on digital health, governance, health policy, health system quality and safety, healthcare delivery and access to healthcare, healthcare financing and economics, implementing reform, and the health workforce.\n",
    "\n",
    "[*BMC Health Services Research* - Aims and scope](https://bmchealthservres.biomedcentral.com/submission-guidelines/aims-and-scope)"
   ]
  },
  {
   "cell_type": "markdown",
   "id": "stock-commercial",
   "metadata": {},
   "source": [
    "### BMC Tropical Medicine and Health\n",
    "#### Aims and scope\n",
    "Tropical Medicine and Health is an open access, peer-reviewed journal that publishes original research and reviews on all aspects of tropical medicine and global health. The journal welcomes clinical, epidemiological, laboratory and policy research.\n",
    "\n",
    "Key topics include:\n",
    "\n",
    "* Viral, bacterial and parasitic infectious diseases\n",
    "* Vectors\n",
    "* Poisonous and venomous organisms\n",
    "* Noncommunicable diseases\n",
    "* Epidemiology and population health\n",
    "* Drug, vaccine and diagnostic tool development\n",
    "* Traveller’s health\n",
    "* Health systems, services and policy\n",
    "* Other health issues related to the tropics\n",
    "\n",
    "The journal accepts original research, reviews, short reports, case reports and letters to the editor.\n",
    "\n",
    "[About *Tropical Medicine and Health*](https://tropmedhealth.biomedcentral.com/about)"
   ]
  },
  {
   "cell_type": "markdown",
   "id": "intense-antenna",
   "metadata": {},
   "source": [
    "### BMC Public Health\n",
    "#### Aims and scope\n",
    "\n",
    "*BMC Public Health* is an open access, peer-reviewed journal that considers articles on the epidemiology of disease and the understanding of all aspects of public health. The journal has a special focus on the social determinants of health, the environmental, behavioral, and occupational correlates of health and disease, and the impact of health policies, practices and interventions on the community.\n",
    "\n",
    "[*BMC Public Health* - Aims and scope](https://bmcpublichealth.biomedcentral.com/submission-guidelines/aims-and-scope)\n",
    "\n",
    "#### Impact Factor (2022-2023)\n",
    "* Impact Factor: 4.135"
   ]
  },
  {
   "cell_type": "markdown",
   "id": "meaningful-brazil",
   "metadata": {},
   "source": [
    "### BMJ Global Health\n",
    "#### Aims and scope\n",
    "BMJ Global Health is an open access, online journal from BMJ dedicated to publishing high-quality peer-reviewed content relevant to those involved in global health, including policy makers, funders, researchers, clinicians and frontline healthcare workers.\n",
    "\n",
    "To find out more about the journal’s vision, please read the introductory editorial from the journal’s Editor-in-Chief, Dr Seye Abimbola.\n",
    "\n",
    "The journal covers all aspects of global health, and the editor welcomes opinionated discussions to stimulate discussion and debate.\n",
    "BMJ Global Health adheres to BMJ’s rigorous standards of peer-review and papers are considered on the basis of ethical and methodological soundness rather than their novelty, significance, or relevance to any particular group. The journal operates a fast submission process with continuous publication online to ensure that timely, up-to-date research is available worldwide to those who need it.\n",
    "\n",
    "[About *BMJ Global Health*](https://gh.bmj.com/pages/about)"
   ]
  },
  {
   "cell_type": "markdown",
   "id": "outstanding-murray",
   "metadata": {},
   "source": [
    "### Bulletin of the World Health Organization\n",
    "#### About\n",
    "\n",
    "The Bulletin of the World Health Organization is an international journal of public health with a special focus on developing countries. Since it was first published in 1948, it has become one of the world’s leading public health journals. In keeping with its mission statement, the peer-reviewed monthly maintains an open-access policy so that the full contents of the journal and its archives are available online free of charge. As the flagship periodical of the World Health Organization (WHO), the Bulletin draws on WHO experts as editorial advisers, reviewers and authors as well as on external collaborators. Anyone can submit a paper to the Bulletin, and no author charges are levied. All peer-reviewed articles are indexed, including in ISI Web of Science and MEDLINE.\n",
    "\n",
    "[About the Bulletin](https://www.who.int/publications/journals/bulletin/about#:~:text=The%20Bulletin%20of%20the%20World,world's%20leading%20public%20health%20journals.)"
   ]
  },
  {
   "cell_type": "markdown",
   "id": "legitimate-grace",
   "metadata": {},
   "source": [
    "### Frontiers in Public Health\n",
    "#### Mission & scope\n",
    "\n",
    "Public Health in the 21st century: challenges, needs and the role of our journal\n",
    "Human modification of the environment proceeds in a rapid way but the speed of research investigating its impact on human health is much lower. Epidemiology has been crucial in identifying causal relationships with a strong impact on modern public health, however, we are now aware that causal relationships have become much more complex in the world we live in.\n",
    "\n",
    "The impact of a low socio-economic position in society, increasing poverty in strata of the population, widespread environmental transformation and climate change are examples of complex causal relationships and it is important to apply the same degree of complexity to public health interventions once causality has been reasonably established. It is now acknowledged that health promotion at the individual level has little effectiveness and tends to amplify socio-economic differences in health. Moreover, epidemiological studies are post hoc and, particularly in the field of non-communicable diseases, may give results only many years after the introduction of potential hazards in the environment. Therefore, sophisticated community-based interventions are required to strengthen causal inferences as well as accurate and exhaustive ways to evaluate and summarize the evidence creating a bridge between research and public health.\n",
    "\n",
    "A major emphasis is given to precision prevention. This has been proposed as a new frontier for public health, following the wave of enthusiasm around progress in genetics, omics and Big Data. However, precision prevention may be misleading because most preventive strategies so far have been proved to be effective at the society level rather than in susceptible high-risk individuals. Prevention is largely based on interventions outside the health area and systemic rather sectoral interventions may be much more rewarding. The journal intends to be a forum for a debate on the expectations and achievements of precision prevention promoting constructive discussion around inter-sectoral interventions which span from health promotion to climate change, transportation, environmental change and even species diversity.\n",
    "\n",
    "Mission Statement\n",
    "\n",
    "Frontiers in Public Health is a multidisciplinary open-access journal which publishes rigorously peer-reviewed research and is at the forefront of disseminating and communicating scientific knowledge and impactful discoveries to researchers, academics, clinicians, policy makers and the public worldwide. The journal aims at overcoming current fragmentation in research and publication, promoting consistency in pursuing relevant scientific themes, and supporting finding dissemination and translation into practice.\n",
    "\n",
    "Frontiers in Public Health is organized into Specialty Sections that cover different areas of research in the field. Please refer to the author guidelines for details on article types and the submission process.\n",
    "\n",
    "[About *Frontiers in Public Health*](https://www.frontiersin.org/journals/public-health/about)"
   ]
  },
  {
   "cell_type": "markdown",
   "id": "unexpected-copyright",
   "metadata": {},
   "source": [
    "### Global Health Action\n",
    "#### Aims and scope\n",
    "*Global Health Action* is an open access journal publishing peer-reviewed research on global health, engaging with key public health and policy issues. Global Health Action is published in cooperation with Umeå University, Sweden.\n",
    "\n",
    "Global Health Action aims to be a leading journal in the global health field, narrowing health information gaps and contributing to the implementation of policies and actions that lead to improved global health.\n",
    "\n",
    "The journal seeks to contribute a concrete, hands-on approach to addressing the global health challenges brought to the fore by the impact of globalization. The journal intends to generate new knowledge and evidence where it is lacking, as well as to bridge the gaps between existing knowledge and the implementation of relevant findings.\n",
    "\n",
    "All articles are expected to address a global agenda and include a strong implementation or policy component. Manuscripts suggesting strategies for practical interventions and research implementations where none already exist are especially welcome.\n",
    "\n",
    "Global Health Action accepts the following types of articles: research, review, PhD synthesis, methods forum, study design, capacity building, current debate, and short communication. Papers from low- and middle-income countries and articles originated from South-South and South-North collaborations are encouraged.\n",
    "\n",
    "[Aims and scope - *Global Health Action*](https://www.tandfonline.com/action/journalInformation?show=aimsScope&journalCode=zgha20)"
   ]
  },
  {
   "cell_type": "markdown",
   "id": "environmental-hardwood",
   "metadata": {},
   "source": [
    "### Global Health, Epidemiology and Genomics\n",
    "#### Aims and scope\n",
    "\n",
    "Global Health, Epidemiology and Genomics (GHEG) publishes research that increases our understanding of human health and disease worldwide. Spanning both non-communicable and communicable diseases, GHEG provides a platform to integrate population science, genomics and related technological advances in the global health context. Topics relevant to GHEG include studies, methods and resources relating to disease aetiology, variation in disease susceptibility, drug resistance and surveillance, pharmacogenomics and stratified medicine, as well as the challenges of implementing new developments into clinical practice and the community, globally. We recognise the importance of the broader cultural, ethical and historical aspects of global health and populations and welcome contributions in these areas.\n",
    "\n",
    "The field of global health, epidemiology and genomics is an emerging field which GHEG facilitates by providing a forum for global discourse and the publication of new perspectives and paradigms. In this context, GHEG invites contributions from a range of disciplines and stakeholders, and covering a variety of research methods and analyses.\n",
    "\n",
    "The journal publishes articles under twelve key subject categories: Epidemiology, Clinical trials, Genetics, Observational studies, Qualitative studies, Anthropological studies, Social science, Community intervention, Health systems, Health services, Population genetics and Population history.\n",
    "\n",
    "\n",
    "[*Global Health, Epidemiology and Genomics* - About this Journal](https://preview.hindawi.com/journals/gheg/about/)"
   ]
  },
  {
   "cell_type": "markdown",
   "id": "nonprofit-oxygen",
   "metadata": {},
   "source": [
    "### Global Health Journal\n",
    "#### Aims & Scope\n",
    "\n",
    "Global Health Journal (GHJ) is a quarterly publication in English. It publishes peer-reviewed research papers from disciplines within and beyond the Health Sciences.\n",
    "\n",
    "Submissions are welcome on global health-related topics, including:\n",
    "* Epidemiology\n",
    "* Global health governance and health assistance\n",
    "* Health system and policy\n",
    "* Health economics\n",
    "* Global health practice\n",
    "* Human resource in health\n",
    "* Population health\n",
    "* Environmental health\n",
    "* Ageing and health care\n",
    "* Maternal and child health\n",
    "* Global health education\n",
    "\n",
    "[*Global Health Journal* - About the journal](https://www.sciencedirect.com/journal/global-health-journal)"
   ]
  },
  {
   "cell_type": "markdown",
   "id": "piano-maria",
   "metadata": {},
   "source": [
    "### Global Health Promotion\n",
    "#### Aims and scope\n",
    "\n",
    "The journal aims to:\n",
    "\n",
    "* Publish original articles and commentaries in English, French and Spanish.\n",
    "* Provide an international and interdisciplinary forum for the dissemination and exchange of theory, empirical research and evaluation about health promotion practice, health education and public health, with a particular emphasis on intervention research findings and innovative strategies for health promotion.\n",
    "* Publish articles which ensure wide geographical coverage and are of general interest to a global readership.\n",
    "* Provide fair, supportive, efficient, and high-quality peer review and editorial handling of all submissions.\n",
    "\n",
    "[*Global Health Promotion* - Aims and scope](https://journals.sagepub.com/aims-scope/PED)\n",
    "\n",
    "#### Impact Factor\n",
    "* Impact Factor: 2.0\n",
    "* 5-Year Impact Factor: 2.4"
   ]
  },
  {
   "cell_type": "markdown",
   "id": "preceding-bidding",
   "metadata": {},
   "source": [
    "### Global Health Research and Policy\n",
    "#### Aims and scope\n",
    "\n",
    "Global Health Research and Policy is an open access, multidisciplinary journal that publishes topic areas and methods addressing global health questions. These include various aspects of health research, such as health equity, health systems and policy, social determinants of health, disease burden, population health and other urgent and neglected global health issues.\n",
    "\n",
    "Global Health Research and Policy aims to provide a forum for high quality researches on exploring regional and global health improvement and the solution for health equity.\n",
    "\n",
    "[*Global Health Research and Policy* - About](https://ghrp.biomedcentral.com/about)"
   ]
  },
  {
   "cell_type": "markdown",
   "id": "mysterious-judges",
   "metadata": {},
   "source": [
    "### Global Health: Science and Practice\n",
    "#### Topics and Scope\n",
    "\n",
    "We include articles on all global health topics, including but not limited to family planning, reproductive health, maternal and child health, water and sanitation, nutrition, and communicable and noncommunicable diseases. The journal embraces an interdisciplinary approach and covers a range of cross-cutting issues such as gender, quality improvement, logistics, and supply chain management.\n",
    "\n",
    "[About the GHSP Journal](https://www.ghspjournal.org/about)\n",
    "\n",
    "#### Impact Factor\n",
    "* Impact Factor: 3.409"
   ]
  },
  {
   "cell_type": "markdown",
   "id": "agricultural-article",
   "metadata": {},
   "source": [
    "### Global Public Health\n",
    "#### Aims and scope\n",
    "\n",
    "Global Public Health is an international journal that publishes research on public health including the social and cultural aspects of global health issues.\n",
    "\n",
    "Global Public Health addresses public health issues that come to the fore in the global environment, such as epidemics of newly emerging and re-emerging infectious diseases, the globalization of trade and the increase in chronic illnesses.\n",
    "\n",
    "The journal is characterized by a global and multidisciplinary focus, its emphasis on significant global health issues and its concern to understand resource-poor and resource-rich countries including the public health challenges they face as part of a single, interacting and global system.\n",
    "\n",
    "Global Public Health covers the following sections:\n",
    "\n",
    "Social patterning of health including social exclusion, health disparities and inequalities\n",
    "Environmental health sciences including natural catastrophes, disasters, famine, pollution, ecotoxicology and environmental threats\n",
    "Population and health including sexual and reproductive health, mental health, indigenous health and the health of minorities\n",
    "Conflict and health including torture, war, terrorism, civil disturbance and the health of displaced populations\n",
    "International health policy and practice including social justice, human rights and health\n",
    "Global health and development including the health effects of major economic development trends and the impact of globalization on health outcomes\n",
    "\n",
    "Manuscripts on the following topics are especially welcomed:\n",
    "\n",
    "The role of significant social factors, especially social inequalities as determinants of health\n",
    "Politics and policy, both as shaping health outcomes and as important components of health systems\n",
    "Ways in which any specific case study raises issues about global processes or systems\n",
    "\n",
    "[*Global Public Health* - Aims and scope](https://www.tandfonline.com/action/journalInformation?show=aimsScope&journalCode=rgph20)"
   ]
  },
  {
   "cell_type": "markdown",
   "id": "exotic-calibration",
   "metadata": {},
   "source": [
    "### Health Policy and Planning\n",
    "#### About *Health Policy and Planning*\n",
    "\n",
    "Health Policy and Planning publishes health policy and systems research focusing on low- and middle-income countries.\n",
    "\n",
    "Our journal provides an international forum for publishing original and high-quality research that addresses questions pertinent to policy-makers, public health researchers and practitioners. Health Policy and Planning is published 10 times a year.\n",
    "\n",
    "Specific objectives are to:\n",
    "\n",
    "* Attract high quality research papers, reviews and debates on topics relevant to health policies in low- and middle-income countries;\n",
    "* Ensure wide geographical coverage of papers including coverage of the poorest countries and those in transition;\n",
    "* Encourage and support researchers from low- and middle-income countries to publish in HPP ;\n",
    "* Ensure papers reflect a broad range of disciplines, methodologies and topics;\n",
    "* Ensure that papers are clearly explained and accessible to readers from the range of disciplines used to analyse health policies; and\n",
    "* Provide a fair, supportive and high-quality peer review process.\n",
    "\n",
    "[About *Health Policy and Planning*](https://academic.oup.com/heapol/pages/About#transformative)\n",
    "\n",
    "#### Impact Factor\n",
    "* Impact Factor: 3.2\n",
    "* 5-Year Impact Factor: 3.8"
   ]
  },
  {
   "cell_type": "markdown",
   "id": "dietary-transparency",
   "metadata": {},
   "source": [
    "### Health Research Policy and Systems\n",
    "#### Aims and scope\n",
    "\n",
    "Health Research Policy and Systems covers all aspects of the organisation and use of health research – including agenda setting, building health research capacity, and how research as a whole benefits decision makers, practitioners in health and related fields, and society at large.\n",
    "\n",
    "Why publish your article in Health Research Policy and Systems?\n",
    "\n",
    "* Published in collaboration with the World Health Organization.\n",
    "* We explore the role of evidence-based health policy and health research systems in ensuring that knowledge from research is used effectively to improve health and health equity.\n",
    "* We take an international approach that specifically includes low-middle income countries.\n",
    "* Open access publication ensures that your article can be easily discovered, accessed, used, and shared, maximising your impact and acting as a springboard for further discovery.\n",
    "\n",
    "Health Research Policy and Systems considers manuscripts that investigate the role of evidence-based health policy and health research systems in ensuring knowledge from research is effectively used to improve health and health equity, especially in low- and middle-income countries.\n",
    "\n",
    "We are interested in both how health research can shape health policy and systems, and how health systems and policy can shape health research.\n",
    "\n",
    "Our scope includes work on health research agenda-setting, research capacity-building, collaborative research production, research impact assessment and how research can best help health decision-makers, including health policy-makers, practitioners, consumers and society at large.\n",
    "\n",
    "In considering manuscripts, we particularly look for articles that report the results of research on the prioritisation, conduct or use of research (‘research-on-research’) and/or that explicitly investigating the interaction between research and health policy or health systems.\n",
    "\n",
    "We are keen to consider manuscripts that:\n",
    "\n",
    "* Provide insights on how the many, varying people involved in health (clinicians, consumers, managers, policy-makers, administrators, media, funders, researchers) can work more effectively together to improve health.\n",
    "* Explore what we can learn from other areas of research and policy to improve the use of health research in health policy, and how we can support collaborative and interdisciplinary research for health.\n",
    "* Describe and test approaches, frameworks and measures to strengthen health systems research and promote evidence-informed health policies, as well as innovative demonstrations of health systems impact.\n",
    "\n",
    "We do not usually publish articles that solely address translation of research into practice in one clinical area or health service context.\n",
    "\n",
    "Our mission is to support and further the discussion, debate and development of effective health research, policy and systems. We aim to bring diverse groups of people together with research evidence to overcome important health problems.\n",
    "\n",
    "[About *Health Research Policy and Systems*](https://health-policy-systems.biomedcentral.com/about)"
   ]
  },
  {
   "cell_type": "markdown",
   "id": "superb-think",
   "metadata": {},
   "source": [
    "### Human Resources for Health\n",
    "#### Aims and scope\n",
    "\n",
    "Human Resources for Health welcomes manuscripts on all aspects of the planning, education, management and governance of human resources for health – particularly those of international relevance and global reach.\n",
    "Human Resources for Health aims to support and shape the growing focus on health workforce policy, profile, planning, and performance, and on its contributions to improved health care effectiveness and population health, equity, access, social inclusion, and economic growth.\n",
    "\n",
    "Human Resources for Health encourages debate and analysis on the health workforce aspects of health sector reform, health service funding and structures, regulation, technology, equity, and access. It contributes to the global evidence base by disseminating research and analysis on: health workforce policy and governance; health labour markets; the training, education and development of the workforce; health workforce practice and management; health workforce mobility and migration; job satisfaction, motivations, and career patterns; skill mix, performance and outcomes; and development of knowledge tools and implementation mechanisms, nationally and internationally. The journal encourages collaboration with colleagues in the locations where the research is conducted, and expects their inclusion as co-authors when they fulfill all authorship criteria.\n",
    "\n",
    "Human Resources for Health is multi-disciplinary in focus. Effective development, deployment and evaluation of the health workforce are complex processes that require cross-disciplinary collaboration, intersectoral co-ordination, and sound theoretical concepts, in areas such as: labour market analyses; planning; evaluation of programmes; economic evaluation; political and policy analysis; demographics and statistics; gender and diversity studies; migration studies; technological innovation; and methods of improving motivation and productivity. Please note that single intervention focused studies, which are relatively exploratory, small scale and/or descriptive, and which have no clear international context or relevance are unlikely to be sent for peer review or accepted for publication. There is no other international journal in which this analytical and policy oriented agenda can be debated and disseminated to the broader community of human resources for health analysts, academics, practitioners and policy makers. In aiming to have global reach and resonance, and policy impact, Human Resources for Health welcomes articles examining health workforce issues, from all disciplines, and all countries, at all income levels.\n",
    "\n",
    "Why publish your article in Human Resources for Health?\n",
    "\n",
    "* Published in collaboration with the World Health Organization.\n",
    "* We encourage debate on health sector reforms and their link with human resources issues, and we embrace a global perspective encompassing low, middle, and high-income countries.\n",
    "* With more than 1,750,000 article accesses in 2022, we provide a highly visible platform for your research.\n",
    "* Open access publication ensures that your article can be easily discovered, accessed, used, and shared, maximising your impact and acting as a springboard for further discovery.\n",
    "\n",
    "[About *Human Resources for Health*](https://human-resources-health.biomedcentral.com/about)"
   ]
  },
  {
   "cell_type": "markdown",
   "id": "heavy-kinase",
   "metadata": {},
   "source": [
    "### International Health\n",
    "#### Scope of the Journal\n",
    "*International Health* publishes original, peer-reviewed articles and reviews reflecting healthcare delivery and analysis in the field of global medicine and health. It will be of particular interest to those tasked with the delivery of care to communities where resources are extremely limited.\n",
    "\n",
    "[*International Health* - Journal Policies](https://academic.oup.com/inthealth/pages/Policies)"
   ]
  },
  {
   "cell_type": "markdown",
   "id": "closing-desktop",
   "metadata": {},
   "source": [
    "### International Journal for Equity in Health\n",
    "#### Aims and scope\n",
    "\n",
    "International Journal for Equity in Health presents evidence relevant to the search for, and attainment of, equity in health across and within countries. International Journal for Equity in Health publishes research which improves the understanding of issues that influence the distribution of health and healthcare within populations. This includes the discussion of political, policy-related, economic, social and health systems- and services-related influences, particularly with regard to identifying and understanding the systematic differences or the lived experiences of one or more aspects of health in population groups defined demographically, geographically, or socially.\n",
    "\n",
    "Although there is a large amount of literature on the 'social determinants' of health, the journal focuses heavily on understanding what influences at the level of the individual, and, what influences at the community level. The literature is relatively sparse on studies that look at what influences the policy and political arenas, and is especially deficient in analyses that examine the population-attributable fraction of ill health resulting from social, behavioral, medical, or biological factors, and the interrelated contributions of these spheres of influence. Such information and the insight derived from it is required by policy-makers in order to make informed choices and evidence-based decisions, and this is the focus of International Journal for Equity in Health.\n",
    "\n",
    "[*International Journal for Equity in Health* - Aims and scope](https://equityhealthj.biomedcentral.com/submission-guidelines/aims-and-scope)"
   ]
  },
  {
   "cell_type": "markdown",
   "id": "distant-verse",
   "metadata": {},
   "source": [
    "### International Journal of Public Health\n",
    "#### Scope & Mission\n",
    "\n",
    "The International Journal of Public Health (IJPH) publishes scientific articles relevant to global public health, from different countries and cultures, and produces special issues that raise awareness and understanding of public health problems and solutions. The Editorial Board's mission is to provide a thoughtful forum for contemporary issues and challenges in global public health research and practice.\n",
    "\n",
    "[About *International Journal of Public Health*](https://www.ssph-journal.org/journals/international-journal-of-public-health/about)"
   ]
  },
  {
   "cell_type": "markdown",
   "id": "impressive-wright",
   "metadata": {},
   "source": [
    "### Journal of Epidemiology and Global Health\n",
    "#### Aims and scope\n",
    "\n",
    "The Journal of Epidemiology and Global Health aims to impact global epidemiology and international health with articles focused on innovative scholarship and strategies to advance global health policy. The journal seeks to improve regional and global health by informing efforts to reduce the risk of communicable and non-communicable diseases and takes special interest in publishing rigorous assessments of policies which have been implemented based on epidemiological and public health research. At the Journal of Epidemiology and Global Health we believe that epidemiology and public health are closely intertwined, both scientifically and from a health policy perspective: advances in one area exert positive consequences on the other. We are particularly interested in the links between evolving epidemiologic advances and the implementation of health policy initiatives, and eventually in publishing efficacy assessments, including the assessment of unintended consequences.\n",
    "\n",
    "The Journal of Epidemiology and Global Health benefits from a diverse, multidisciplinary, experienced and international Editorial Board that will facilitate the publication of articles and perspectives reflecting a global view of public health medicine and epidemiology. The journal also aims to focus on supporting the academic, clinical and practical needs of public health practitioners in the field. As global health medicine meets unprecedented problems - the H1N1 pandemic being a recent example - imaginative approaches will be needed to influence health policy, foreign policy and even immigration policy. The resulting need for multidisciplinary research is not well served by the current body of academic literature and the journal seeks to fill this important gap.\n",
    "\n",
    "The Journal of Epidemiology and Global Health is an interdisciplinary journal that welcomes original studies (laboratory, epidemiological or clinical), reviews, perspectives and commentaries from all aspects of communicable and non-communicable diseases, in particular those identified as priorities by the World Health Assembly. The journal does not accept case reports and submissions purely focused on basic (bench) science.\n",
    "\n",
    "[*Journal of Epidemiology and Global Health* - Aims and scope](https://www.springer.com/journal/44197/aims-and-scope)"
   ]
  },
  {
   "cell_type": "markdown",
   "id": "excessive-visibility",
   "metadata": {},
   "source": [
    "### Journal of Global Health\n",
    "#### Guidelines for Authors\n",
    "\n",
    "The Journal of Global Health (JoGH) is an international peer-reviewed journal open to researchers from all fields of global health and related research. We welcome all contributions that enhance the understanding of global health and provide practice guidelines to address health issues in the developed and developing world.\n",
    "\n",
    "[*Journal of Global Health* - Information for Contributors](https://jogh.org/information-for-contributors/)\n",
    "\n",
    "#### Impact Factor\n",
    "* 2-Year Impact Factor: 7.664\n",
    "* 5-Year Impact Factor: 7.127"
   ]
  },
  {
   "cell_type": "markdown",
   "id": "anonymous-activation",
   "metadata": {},
   "source": [
    "### Journal of Global Health Reports\n",
    "#### Aims and Scope\n",
    "\n",
    "Journal of Global Health Reports (JoGHR) is an international peer-reviewed journal that aims to promote local research on difficult questions and issues to improve global health. JoGHR is open to researchers from all fields of global health and related research. The journal particularly welcomes all contributions that enhance the understanding of global health and improve global health, including epidemiological research, health policy and systems research, research focused on the improvement of the existing interventions, and research that proposes to develop new and innovative interventions. The journal is also open to all methodological approaches – qualitative, quantitative and mixed methods, and descriptive reports or personal insights and thoughts on relevant problems in global health. JoGHR publishes one issue per year, with articles published continuously as they are ready for publication.\n",
    "\n",
    "[*Journal of Global Health Reports* - For Authors](https://www.joghr.org/for-authors)"
   ]
  },
  {
   "cell_type": "markdown",
   "id": "criminal-carbon",
   "metadata": {},
   "source": [
    "### Journal of Health, Population, and Nutrition\n",
    "#### Aims and scope\n",
    "\n",
    "Journal of Health, Population and Nutrition brings together research on all aspects of issues related to population, nutrition, and health. The journal will only consider human related studies, and does not publish research relating to animal, plant or in vitro studies.\n",
    "\n",
    "The journal publishes articles across a broad range of topics including global health, maternal and child health, nutrition, common illnesses, and determinants of population health. As a global public health journal, we will only consider articles that have international relevancy and will only sparingly consider research based in one village/town.\n",
    "\n",
    "The journal considers all aspects of global health, and includes but is not limited to, the following sections:\n",
    "\n",
    "* Health economics\n",
    "* Health systems\n",
    "* Infectious diseases\n",
    "* Maternal, newborn, and child health\n",
    "* Non-communicable diseases\n",
    "* Nutrition\n",
    "* Reproductive health and family planning\n",
    "\n",
    "[*Journal of Health, Population, and Nutrition* - About](https://jhpn.biomedcentral.com/about)"
   ]
  },
  {
   "cell_type": "markdown",
   "id": "fleet-turner",
   "metadata": {},
   "source": [
    "### Journal of Public Health\n",
    "#### Aims and scope\n",
    "\n",
    "The Journal of Public Health: From Theory to Practice is an interdisciplinary publication for the discussion and debate of international public health issues, with a focus on European affairs. It describes the social and individual factors determining the basic conditions of public health, analyzing causal interrelations, and offering a scientifically sound rationale for personal, social and political measures of intervention. Coverage includes contributions from epidemiology, health economics, environmental health, management, social sciences, ethics, and law.\n",
    "\n",
    "[*Journal of Public Health* - Aims and scope](https://www.springer.com/journal/10389/aims-and-scope)"
   ]
  },
  {
   "cell_type": "markdown",
   "id": "complicated-laundry",
   "metadata": {},
   "source": [
    "### The Lancet Global Health\n",
    "#### Aims and scope\n",
    "\n",
    "The world-leading global health journal\n",
    "The Lancet Global Health focuses on disadvantaged populations, be they whole economic regions or marginalised groups within otherwise prosperous nations, with a preference for the following topics: reproductive, maternal, neonatal, child, and adolescent health; infectious diseases, including neglected tropical diseases; non-communicable diseases; mental health; the global health workforce; health systems; surgery; and health policy.\n",
    "\n",
    "In addition, we continue The Lancet's tradition of advocacy and health policy and aims to catalyse alliances between health-care professionals, the public, and policy makers to champion change based on the best evidence to deliver better health worldwide. We are committed to addressing the decolonising agenda in global health.\n",
    "\n",
    "We publish a range of content types including Articles, Review, Comment, and Correspondence. We also publish Series and Commissions that aim to shape and drive positive change in global health. Learn more about the types of papers we publish.\n",
    "\n",
    "[About *The Lancet Global Health*](https://www.thelancet.com/langlo/about)"
   ]
  },
  {
   "cell_type": "markdown",
   "id": "legitimate-interview",
   "metadata": {},
   "source": [
    "### PLOS Global Public Health\n",
    "#### Journal Information\n",
    "\n",
    "*Mission*\n",
    "\n",
    "PLOS Global Public Health addresses deeply entrenched global inequities in public health and makes impactful research visible and accessible to health professionals, policy-makers, and local communities without barriers. We will amplify the voices of underrepresented and historically excluded communities and prioritize equity, diversity, and inclusion at all levels – editors, editorial boards, peer reviewers and authors – to broaden the range and diversity of perspectives at the forefront of public health and advance the health of all humankind.\n",
    "\n",
    "*Scope*\n",
    "\n",
    "PLOS Global Public Health is an open access global forum for public health research that reaches across disciplines and regional boundaries to address the biggest health challenges and inequities facing our society today.\n",
    "\n",
    "We publish ethically and methodologically rigorous research that impacts public health, and particularly encourage submissions reporting research into health inequities and efforts to increase diversity and inclusion in public health.  We consider submissions in areas including but not limited to global health delivery; infectious diseases; non-communicable diseases; race and health; mental health, laboratory medicine; maternal, newborn, and child health; nutrition; sexual and reproductive health and rights; Indigenous health; environmental and planetary health; evidence use and policy; global health governance; social and behavioral health; humanitarian aid and conflict/displacement; injuries, trauma and global surgery; global health financing and trade; and global health security.\n",
    " \n",
    "PLOS Global Public Health welcomes quantitative and qualitative primary research that contributes to the base of academic knowledge, including interdisciplinary research articles, clinical trials, replication studies, and negative or null results; Systematic reviews whose methods ensure the comprehensive and unbiased sampling of existing literature; submissions describing methods, software, databases, or other tools that meet the journal’s criteria for utility, validation and availability that adheres to appropriate study design and reporting guidelines.\n",
    "\n",
    "[*PLOS Global Public Health* - Journal Information](https://journals.plos.org/globalpublichealth/s/journal-information)"
   ]
  },
  {
   "cell_type": "markdown",
   "id": "fourth-lingerie",
   "metadata": {},
   "source": [
    "### Public Health\n",
    "#### Aims & Scope\n",
    "\n",
    "Public Health is an international, multidisciplinary peer-reviewed journal. The journal aims to publish international articles focused on all aspects of the science and philosophy of; public health, public health services and public health systems, seeking to challenge the status quo to improve the health and care of populations or communities.\n",
    "\n",
    "The journal will publish robust and ethically sound articles of any study type whereby the focus is consistent with our aim. This includes but is not limited to:\n",
    "\n",
    "* Public health theory, models and frameworks\n",
    "* Epidemiology - social and political\n",
    "* Need or impact assessments with a strategic/population level focus\n",
    "* Effectiveness, management and re-design of health and social care services/support, and wider determinant services such as education, welfare, employment services to improve public health\n",
    "* Health Protection including control of communicable diseases\n",
    "* Health promotion and disease prevention\n",
    "* Development of public health programmes or interventions\n",
    "* Public health governance, audit and quality\n",
    "* Public health law and ethics\n",
    "* Public health policy and comparisons\n",
    "* Capacity in public health systems and workforce\n",
    "\n",
    "The target market of the journal is researchers, practitioners, and policymakers who are engaged in public health policy and programmes, public health services and public health systems.\n",
    "\n",
    "[*Public Health* - Aims & Scope](https://www.sciencedirect.com/journal/public-health)"
   ]
  },
  {
   "cell_type": "markdown",
   "id": "crucial-headquarters",
   "metadata": {},
   "source": [
    "### Social Science and Medicine - Population Health\n",
    "#### Aims & Scope\n",
    "\n",
    "The online only, open access, peer reviewed journal covering all areas relating Social Science research to population health.\n",
    "\n",
    "SSM - Population Health shares the same general approach to manuscripts as its companion title, Social Science & Medicine. The journal takes a broad approach to the field especially welcoming interdisciplinary papers from across the Social Sciences and allied areas\n",
    "\n",
    "SSM - Population Health offers an alternative outlet for work which might not be considered, or is classed as 'out of scope' elsewhere, and prioritizes fast peer review and publication to the benefit of authors and readers.\n",
    "\n",
    "The journal welcomes all types of paper from traditional primary research articles, replication studies, methodological studies, instrument validation, opinion pieces, literature reviews, etc. SSM - Population Health also offers the opportunity to publish special issues or sections to reflect current interest and research in topical or developing areas. The journal fully supports authors wanting to present their research in an innovative fashion though the use of multimedia formats.\n",
    "\n",
    "[*SSM - Population Health* - Aims & Scope](https://www.sciencedirect.com/journal/ssm-population-health)"
   ]
  },
  {
   "cell_type": "markdown",
   "id": "critical-intersection",
   "metadata": {},
   "source": [
    "### Tropical Medicine and Health\n",
    "#### Aims and scope\n",
    "\n",
    "Tropical Medicine and Health is an open access, peer-reviewed journal that publishes original research and reviews on all aspects of tropical medicine and global health. The journal welcomes clinical, epidemiological, laboratory and policy research.\n",
    "\n",
    "Key topics include:\n",
    "\n",
    "* Viral, bacterial and parasitic infectious diseases\n",
    "* Vectors\n",
    "* Poisonous and venomous organisms\n",
    "* Noncommunicable diseases\n",
    "* Epidemiology and population health\n",
    "* Drug, vaccine and diagnostic tool development\n",
    "* Traveller’s health\n",
    "* Health systems, services and policy\n",
    "* Other health issues related to the tropics\n",
    "\n",
    "[*Tropical Medicine and Health* - Aims and scope](https://tropmedhealth.biomedcentral.com/submission-guidelines/aims-and-scope)"
   ]
  },
  {
   "cell_type": "code",
   "execution_count": null,
   "id": "informal-arthur",
   "metadata": {},
   "outputs": [],
   "source": []
  }
 ],
 "metadata": {
  "kernelspec": {
   "display_name": "Python 3",
   "language": "python",
   "name": "python3"
  },
  "language_info": {
   "codemirror_mode": {
    "name": "ipython",
    "version": 3
   },
   "file_extension": ".py",
   "mimetype": "text/x-python",
   "name": "python",
   "nbconvert_exporter": "python",
   "pygments_lexer": "ipython3",
   "version": "3.7.4"
  }
 },
 "nbformat": 4,
 "nbformat_minor": 5
}
