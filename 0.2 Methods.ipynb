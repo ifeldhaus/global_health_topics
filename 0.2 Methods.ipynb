{
 "cells": [
  {
   "cell_type": "markdown",
   "id": "frozen-stability",
   "metadata": {},
   "source": [
    "# Published Topics in Global Health\n",
    "## Isabelle Feldhaus\n",
    "### Last updated 1 August 2023"
   ]
  },
  {
   "cell_type": "markdown",
   "id": "convinced-royal",
   "metadata": {},
   "source": [
    "The objective of this analysis is to answer the question: What is the most published topic in global health?\n",
    "\n",
    "Subsequent analyses could examine this question alongside trends in global health funding and be used to identify a global health taxonomy based on research to date in the field. "
   ]
  },
  {
   "cell_type": "markdown",
   "id": "cordless-favorite",
   "metadata": {},
   "source": [
    "This analysis uses the Medline database to identify global health-focused articles and extract relevant metadata. Extracted metadata includes: PubMed ID, title, abstract, authors, affiliations, journal, publication date, publication history, and MeSH terms. "
   ]
  },
  {
   "cell_type": "markdown",
   "id": "level-arthritis",
   "metadata": {},
   "source": [
    "A Google search for global health journals and review of their aims and scope revealed 26 journals focused on global health and/or public health in low- and middle-income countries. Of these, 21 journals are currently indexed on the Medline databases. \n",
    "\n"
   ]
  },
  {
   "cell_type": "markdown",
   "id": "instrumental-chemistry",
   "metadata": {},
   "source": [
    "### Topic analysis based on MeSH terms\n"
   ]
  },
  {
   "cell_type": "markdown",
   "id": "thorough-vocabulary",
   "metadata": {},
   "source": [
    "Quick summary of next steps: \n",
    "\n",
    "* Build classifier using MeSH terms as inputs. Evaluate performance of the classifier: Is it good enough to discriminate what is and isn't a global health article?\n",
    "* If so, use it to choose Tier 2 journals / extract information from relevant articles. \n",
    "* If it does not perform well, use embeddings / topic modeling (OpenAI).\n",
    "* Compare the results of the two corpuses. \n",
    "* Determine a general taxonomy based on the titles / abstracts of the selected articles based on embeddings / topic modeling. "
   ]
  },
  {
   "cell_type": "code",
   "execution_count": null,
   "id": "foster-gamma",
   "metadata": {},
   "outputs": [],
   "source": []
  }
 ],
 "metadata": {
  "kernelspec": {
   "display_name": "Python 3",
   "language": "python",
   "name": "python3"
  },
  "language_info": {
   "codemirror_mode": {
    "name": "ipython",
    "version": 3
   },
   "file_extension": ".py",
   "mimetype": "text/x-python",
   "name": "python",
   "nbconvert_exporter": "python",
   "pygments_lexer": "ipython3",
   "version": "3.7.4"
  }
 },
 "nbformat": 4,
 "nbformat_minor": 5
}
